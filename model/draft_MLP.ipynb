{
 "cells": [
  {
   "cell_type": "code",
   "execution_count": 30,
   "metadata": {},
   "outputs": [],
   "source": [
    "import numpy as np\n",
    "import matplotlib.pyplot as plt\n",
    "import pandas as pd\n",
    "import torch\n",
    "from torch.utils.data import Dataset, DataLoader "
   ]
  },
  {
   "cell_type": "code",
   "execution_count": 2,
   "metadata": {},
   "outputs": [],
   "source": [
    "fpath='/its/home/gc349/Causal_inf_convattention/data'\n",
    "fname='/generated_var.csv'\n",
    "df=pd.read_csv(fpath+fname)"
   ]
  },
  {
   "cell_type": "code",
   "execution_count": 3,
   "metadata": {},
   "outputs": [
    {
     "data": {
      "text/plain": [
       "array([[-0.92571,  0.5909 ],\n",
       "       [ 0.21646, -1.5834 ],\n",
       "       [ 0.7857 , -0.47208],\n",
       "       ...,\n",
       "       [-0.98118,  0.23292],\n",
       "       [-0.82501,  0.6342 ],\n",
       "       [-1.5492 ,  1.1097 ]])"
      ]
     },
     "execution_count": 3,
     "metadata": {},
     "output_type": "execute_result"
    }
   ],
   "source": [
    "df.values"
   ]
  },
  {
   "cell_type": "code",
   "execution_count": 4,
   "metadata": {},
   "outputs": [],
   "source": [
    "tsdata=df.values\n",
    "tsdata_tens=torch.from_numpy(tsdata)"
   ]
  },
  {
   "cell_type": "code",
   "execution_count": 5,
   "metadata": {},
   "outputs": [],
   "source": [
    "morder=5 #number of features\n",
    "tslength=np.size(tsdata,0)-morder\n",
    "num_chan=np.size(tsdata,1)\n",
    "ts=torch.empty(morder,tslength,num_chan)"
   ]
  },
  {
   "cell_type": "code",
   "execution_count": 6,
   "metadata": {},
   "outputs": [],
   "source": [
    "#create a tensor to be fed to the neural network\n",
    "for i in range(morder):\n",
    "    for j in range(tslength):\n",
    "        ts[i,j,:]=tsdata_tens[i+j,:]"
   ]
  },
  {
   "cell_type": "code",
   "execution_count": 13,
   "metadata": {},
   "outputs": [],
   "source": [
    "#model MLP wuth arbitrary number of hidden layers\n",
    "class MLP(torch.nn.Module):\n",
    "    def __init__(self, h_sizes, out_size):\n",
    "\n",
    "        super(MLP, self).__init__()\n",
    "\n",
    "        # Hidden layers\n",
    "        self.hidden = nn.ModuleList()\n",
    "        for k in range(len(h_sizes)-1):\n",
    "            self.hidden.append(nn.Linear(h_sizes[k], h_sizes[k+1]))\n",
    "        # Output layer\n",
    "        self.out = nn.Linear(h_sizes[-1], out_size)\n",
    "\n",
    "    def forward(self, x):\n",
    "\n",
    "        # Feedforward\n",
    "        for layer in self.hidden:\n",
    "            x = F.relu(layer(x))\n",
    "        output= self.out(x)\n",
    "        return output"
   ]
  },
  {
   "cell_type": "code",
   "execution_count": 26,
   "metadata": {},
   "outputs": [],
   "source": [
    "#create test, training set and rescale them\n",
    "train_size=int(0.75*ts.size(1))\n",
    "test_size=int(0.25*ts.size(1))\n",
    "X_train="
   ]
  },
  {
   "cell_type": "code",
   "execution_count": 31,
   "metadata": {},
   "outputs": [],
   "source": [
    "train_loader = DataLoader(\n",
    "    ts, batch_size=64, shuffle=True)"
   ]
  },
  {
   "cell_type": "code",
   "execution_count": 32,
   "metadata": {},
   "outputs": [
    {
     "data": {
      "text/plain": [
       "<torch.utils.data.dataloader.DataLoader at 0x7fd38f972e80>"
      ]
     },
     "execution_count": 32,
     "metadata": {},
     "output_type": "execute_result"
    }
   ],
   "source": [
    "train_loader"
   ]
  },
  {
   "cell_type": "code",
   "execution_count": null,
   "metadata": {},
   "outputs": [],
   "source": []
  }
 ],
 "metadata": {
  "kernelspec": {
   "display_name": "Python 3",
   "language": "python",
   "name": "python3"
  },
  "language_info": {
   "codemirror_mode": {
    "name": "ipython",
    "version": 3
   },
   "file_extension": ".py",
   "mimetype": "text/x-python",
   "name": "python",
   "nbconvert_exporter": "python",
   "pygments_lexer": "ipython3",
   "version": "3.6.7"
  }
 },
 "nbformat": 4,
 "nbformat_minor": 2
}
